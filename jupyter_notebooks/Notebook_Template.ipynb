{
  "cells": [
    {
      "cell_type": "markdown",
      "metadata": {
        "id": "0aStgWSO0E0E"
      },
      "source": [
        "# **A detailed analysis of crime in London**"
      ]
    },
    {
      "cell_type": "markdown",
      "metadata": {
        "id": "1eLEkw5O0ECa"
      },
      "source": [
        "## Objectives\n",
        "\n",
        "* Extract the dataset from Kaggle and transform the data to be prepare for analysis.\n",
        "* Conduct descriptive analysis to understand the basic charectaristics of the data.\n",
        "* Visualise the data by using visualisation techniques.\n",
        "* Conclude and develop reports based on the data, prepare for presenation.\n",
        "\n",
        "## Inputs\n",
        "\n",
        "* Write down which data or information you need to run the notebook \n",
        "\n",
        "## Outputs\n",
        "\n",
        "* Write here which files, code or artefacts you generate by the end of the notebook \n",
        "\n",
        "## Additional Comments\n",
        "\n",
        "* If you have any additional comments that don't fit in the previous bullets, please state them here. \n",
        "\n"
      ]
    },
    {
      "cell_type": "markdown",
      "metadata": {
        "id": "9uWZXH9LwoQg"
      },
      "source": [
        "---"
      ]
    },
    {
      "cell_type": "markdown",
      "metadata": {
        "id": "cqP-UeN-z3i2"
      },
      "source": [
        "# Change working directory"
      ]
    },
    {
      "cell_type": "markdown",
      "metadata": {},
      "source": [
        "* We are assuming you will store the notebooks in a subfolder, therefore when running the notebook in the editor, you will need to change the working directory"
      ]
    },
    {
      "cell_type": "markdown",
      "metadata": {
        "id": "aOGIGS-uz3i2"
      },
      "source": [
        "We need to change the working directory from its current folder to its parent folder\n",
        "* We access the current directory with os.getcwd()"
      ]
    },
    {
      "cell_type": "code",
      "execution_count": 72,
      "metadata": {
        "id": "wZfF_j-Bz3i4",
        "outputId": "66943449-1436-4c3d-85c7-b85f9f78349b"
      },
      "outputs": [
        {
          "data": {
            "text/plain": [
              "'/'"
            ]
          },
          "execution_count": 72,
          "metadata": {},
          "output_type": "execute_result"
        }
      ],
      "source": [
        "import os\n",
        "current_dir = os.getcwd()\n",
        "current_dir"
      ]
    },
    {
      "cell_type": "markdown",
      "metadata": {
        "id": "9MWW8E7lz3i7"
      },
      "source": [
        "We want to make the parent of the current directory the new current directory\n",
        "* os.path.dirname() gets the parent directory\n",
        "* os.chir() defines the new current directory"
      ]
    },
    {
      "cell_type": "code",
      "execution_count": 73,
      "metadata": {
        "id": "TwHsQRWjz3i9",
        "outputId": "86849db3-cd2f-4cc5-ebb8-2d0caafa1a2c"
      },
      "outputs": [
        {
          "name": "stdout",
          "output_type": "stream",
          "text": [
            "You set a new current directory\n"
          ]
        }
      ],
      "source": [
        "os.chdir(os.path.dirname(current_dir))\n",
        "print(\"You set a new current directory\")"
      ]
    },
    {
      "cell_type": "markdown",
      "metadata": {
        "id": "M_xPk_Ijz3i-"
      },
      "source": [
        "Confirm the new current directory"
      ]
    },
    {
      "cell_type": "code",
      "execution_count": 74,
      "metadata": {
        "id": "vz3S-_kjz3jA",
        "outputId": "00b79ae4-75d0-4a96-d193-ac9ef9847ea2"
      },
      "outputs": [
        {
          "data": {
            "text/plain": [
              "'/'"
            ]
          },
          "execution_count": 74,
          "metadata": {},
          "output_type": "execute_result"
        }
      ],
      "source": [
        "current_dir = os.getcwd()\n",
        "current_dir"
      ]
    },
    {
      "cell_type": "markdown",
      "metadata": {
        "id": "-mavJ8DibrcQ"
      },
      "source": [
        "**Import packages required.**"
      ]
    },
    {
      "cell_type": "markdown",
      "metadata": {},
      "source": [
        "Section 1 content"
      ]
    },
    {
      "cell_type": "code",
      "execution_count": 75,
      "metadata": {},
      "outputs": [],
      "source": [
        "# Data manipulation and analysis\n",
        "import pandas as pd \n",
        "import numpy as np\n",
        "import os\n",
        "\n",
        "# Data visuaimport shutil\n",
        "import shutil\n",
        "import matplotlib.pyplot as plt\n",
        "import seaborn as sns\n",
        "import plotly.express as px\n",
        "import plotly.graph_objects as go\n"
      ]
    },
    {
      "cell_type": "markdown",
      "metadata": {
        "id": "ZY3l0-AxO93d"
      },
      "source": [
        "---"
      ]
    },
    {
      "cell_type": "markdown",
      "metadata": {
        "id": "uFQo3ycuO-v6"
      },
      "source": [
        "**Data extraction**"
      ]
    },
    {
      "cell_type": "markdown",
      "metadata": {},
      "source": [
        "Section 2 content"
      ]
    },
    {
      "cell_type": "code",
      "execution_count": 76,
      "metadata": {},
      "outputs": [
        {
          "name": "stdout",
          "output_type": "stream",
          "text": [
            "Requirement already satisfied: kagglehub in /workspace/.pip-modules/lib/python3.9/site-packages (0.3.6)\n",
            "Requirement already satisfied: packaging in /home/gitpod/.pyenv/versions/3.9.20/lib/python3.9/site-packages (from kagglehub) (24.2)\n",
            "Requirement already satisfied: requests in /home/gitpod/.pyenv/versions/3.9.20/lib/python3.9/site-packages (from kagglehub) (2.32.3)\n",
            "Requirement already satisfied: tqdm in /workspace/.pip-modules/lib/python3.9/site-packages (from kagglehub) (4.67.1)\n",
            "Requirement already satisfied: charset-normalizer<4,>=2 in /home/gitpod/.pyenv/versions/3.9.20/lib/python3.9/site-packages (from requests->kagglehub) (3.4.1)\n",
            "Requirement already satisfied: idna<4,>=2.5 in /home/gitpod/.pyenv/versions/3.9.20/lib/python3.9/site-packages (from requests->kagglehub) (3.10)\n",
            "Requirement already satisfied: urllib3<3,>=1.21.1 in /home/gitpod/.pyenv/versions/3.9.20/lib/python3.9/site-packages (from requests->kagglehub) (2.3.0)\n",
            "Requirement already satisfied: certifi>=2017.4.17 in /home/gitpod/.pyenv/versions/3.9.20/lib/python3.9/site-packages (from requests->kagglehub) (2024.12.14)\n"
          ]
        }
      ],
      "source": [
        "!pip install kagglehub"
      ]
    },
    {
      "cell_type": "code",
      "execution_count": 77,
      "metadata": {},
      "outputs": [
        {
          "name": "stdout",
          "output_type": "stream",
          "text": [
            "Path to dataset files: /home/gitpod/.cache/kagglehub/datasets/jboysen/london-crime/versions/1\n"
          ]
        }
      ],
      "source": [
        "import kagglehub\n",
        "\n",
        "# Download latest version\n",
        "path = kagglehub.dataset_download(\"jboysen/london-crime\")\n",
        "\n",
        "print(\"Path to dataset files:\", path)"
      ]
    },
    {
      "cell_type": "markdown",
      "metadata": {},
      "source": [
        "**Data transformation**"
      ]
    },
    {
      "cell_type": "code",
      "execution_count": 78,
      "metadata": {},
      "outputs": [],
      "source": [
        "#Load the dataset from pandas\n",
        "df = pd.read_csv(path + \"/london_crime_by_lsoa.csv\")"
      ]
    },
    {
      "cell_type": "code",
      "execution_count": 79,
      "metadata": {},
      "outputs": [
        {
          "name": "stdout",
          "output_type": "stream",
          "text": [
            "<class 'pandas.core.frame.DataFrame'>\n",
            "RangeIndex: 13490604 entries, 0 to 13490603\n",
            "Data columns (total 7 columns):\n",
            " #   Column          Dtype \n",
            "---  ------          ----- \n",
            " 0   lsoa_code       object\n",
            " 1   borough         object\n",
            " 2   major_category  object\n",
            " 3   minor_category  object\n",
            " 4   value           int64 \n",
            " 5   year            int64 \n",
            " 6   month           int64 \n",
            "dtypes: int64(3), object(4)\n",
            "memory usage: 720.5+ MB\n",
            "None\n"
          ]
        }
      ],
      "source": [
        "# Display basic information about the dataset\n",
        "print(df.info())"
      ]
    },
    {
      "cell_type": "code",
      "execution_count": 80,
      "metadata": {},
      "outputs": [
        {
          "name": "stdout",
          "output_type": "stream",
          "text": [
            "   lsoa_code     borough               major_category  \\\n",
            "0  E01001116     Croydon                     Burglary   \n",
            "1  E01001646   Greenwich  Violence Against the Person   \n",
            "2  E01000677     Bromley  Violence Against the Person   \n",
            "3  E01003774   Redbridge                     Burglary   \n",
            "4  E01004563  Wandsworth                      Robbery   \n",
            "\n",
            "                minor_category  value  year  month  \n",
            "0  Burglary in Other Buildings      0  2016     11  \n",
            "1               Other violence      0  2016     11  \n",
            "2               Other violence      0  2015      5  \n",
            "3  Burglary in Other Buildings      0  2016      3  \n",
            "4            Personal Property      0  2008      6  \n"
          ]
        }
      ],
      "source": [
        "# Display the first few rows of the dataset\n",
        "print (df.head())"
      ]
    },
    {
      "cell_type": "code",
      "execution_count": 81,
      "metadata": {},
      "outputs": [
        {
          "name": "stdout",
          "output_type": "stream",
          "text": [
            "              value          year         month\n",
            "count  1.349060e+07  1.349060e+07  1.349060e+07\n",
            "mean   4.779444e-01  2.012000e+03  6.500000e+00\n",
            "std    1.771513e+00  2.581989e+00  3.452053e+00\n",
            "min    0.000000e+00  2.008000e+03  1.000000e+00\n",
            "25%    0.000000e+00  2.010000e+03  3.750000e+00\n",
            "50%    0.000000e+00  2.012000e+03  6.500000e+00\n",
            "75%    1.000000e+00  2.014000e+03  9.250000e+00\n",
            "max    3.090000e+02  2.016000e+03  1.200000e+01\n"
          ]
        }
      ],
      "source": [
        "# Generate a summary of the statistics\n",
        "print(df.describe())"
      ]
    },
    {
      "cell_type": "code",
      "execution_count": 82,
      "metadata": {},
      "outputs": [
        {
          "name": "stdout",
          "output_type": "stream",
          "text": [
            "lsoa_code         0\n",
            "borough           0\n",
            "major_category    0\n",
            "minor_category    0\n",
            "value             0\n",
            "year              0\n",
            "month             0\n",
            "dtype: int64\n",
            "lsoa_code         object\n",
            "borough           object\n",
            "major_category    object\n",
            "minor_category    object\n",
            "value              int64\n",
            "year               int64\n",
            "month              int64\n",
            "dtype: object\n"
          ]
        }
      ],
      "source": [
        "# Check for missing values and data types\n",
        "print(df.isnull().sum())\n",
        "print(df.dtypes)"
      ]
    },
    {
      "cell_type": "code",
      "execution_count": null,
      "metadata": {},
      "outputs": [
        {
          "name": "stdout",
          "output_type": "stream",
          "text": [
            "borough\n",
            "City of London               780\n",
            "Kingston upon Thames       89306\n",
            "Richmond upon Thames       96771\n",
            "Sutton                    100987\n",
            "Bexley                    114136\n",
            "Merton                    115654\n",
            "Harrow                    116848\n",
            "Havering                  138947\n",
            "Barking and Dagenham      149447\n",
            "Kensington and Chelsea    171981\n",
            "Greenwich                 181568\n",
            "Redbridge                 183562\n",
            "Bromley                   184349\n",
            "Hammersmith and Fulham    185259\n",
            "Hounslow                  186772\n",
            "Enfield                   193880\n",
            "Waltham Forest            203879\n",
            "Wandsworth                204741\n",
            "Hillingdon                209680\n",
            "Barnet                    212191\n",
            "Haringey                  213272\n",
            "Lewisham                  215137\n",
            "Hackney                   217119\n",
            "Brent                     227551\n",
            "Tower Hamlets             228613\n",
            "Islington                 230286\n",
            "Ealing                    251562\n",
            "Croydon                   260294\n",
            "Newham                    262024\n",
            "Camden                    275147\n",
            "Southwark                 278809\n",
            "Lambeth                   292178\n",
            "Westminster               455028\n",
            "Name: value, dtype: int64\n"
          ]
        }
      ],
      "source": [
        "# Group data by borough and calculate total crimes per borough\n",
        "total_crimes_by_borough = df.groupby('borough')['value'].sum().sort_values()\n",
        "print(total_crimes_by_borough)"
      ]
    },
    {
      "cell_type": "code",
      "execution_count": null,
      "metadata": {},
      "outputs": [
        {
          "name": "stdout",
          "output_type": "stream",
          "text": [
            "is_central\n",
            "False    0.439952\n",
            "True     0.803246\n",
            "Name: value, dtype: float64\n"
          ]
        }
      ],
      "source": [
        "# List the central boroughs and run a comparison to the outer boroughs\n",
        "central_boroughs = ['City of London', 'Westminster', 'Camden', 'Islington', 'Kensington and Chelsea']\n",
        "df['is_central'] = df['borough'].isin(central_boroughs)\n",
        "central_vs_outer = df.groupby('is_central')['value'].mean()\n",
        "print(central_vs_outer)"
      ]
    },
    {
      "cell_type": "code",
      "execution_count": 85,
      "metadata": {},
      "outputs": [
        {
          "name": "stdout",
          "output_type": "stream",
          "text": [
            "                  borough               major_category   value\n",
            "7    Barking and Dagenham           Theft and Handling   50999\n",
            "8    Barking and Dagenham  Violence Against the Person   43091\n",
            "1    Barking and Dagenham              Criminal Damage   18888\n",
            "16                 Barnet           Theft and Handling   87285\n",
            "17                 Barnet  Violence Against the Person   46565\n",
            "..                    ...                          ...     ...\n",
            "285            Wandsworth  Violence Against the Person   45865\n",
            "277            Wandsworth                     Burglary   25533\n",
            "293           Westminster           Theft and Handling  277617\n",
            "294           Westminster  Violence Against the Person   71448\n",
            "288           Westminster                        Drugs   34031\n",
            "\n",
            "[99 rows x 3 columns]\n"
          ]
        }
      ],
      "source": [
        "# Find the most common types of crime in each borough\n",
        "top_crimes_summary = (\n",
        "    df.groupby(['borough', 'major_category'])['value']\n",
        "    .sum()\n",
        "    .reset_index()\n",
        "    .sort_values(['borough', 'value'], ascending=[True, False])\n",
        "    .groupby('borough')\n",
        "    .head(3)\n",
        ")\n",
        "\n",
        "print(top_crimes_summary)"
      ]
    },
    {
      "cell_type": "code",
      "execution_count": 86,
      "metadata": {},
      "outputs": [
        {
          "name": "stdout",
          "output_type": "stream",
          "text": [
            "borough     Barking and Dagenham  Barnet  Bexley  Brent  Bromley  Camden  \\\n",
            "date                                                                       \n",
            "2008-01-01                  1615    2134    1346   2136     2097    2610   \n",
            "2008-02-01                  1580    1861    1296   1895     1988    2608   \n",
            "2008-03-01                  1417    1992    1342   1946     1923    2720   \n",
            "2008-04-01                  1522    1999    1240   1797     1869    2532   \n",
            "2008-05-01                  1460    2144    1280   2026     2027    2680   \n",
            "...                          ...     ...     ...    ...      ...     ...   \n",
            "2016-08-01                  1346    2043     994   2269     1537    2476   \n",
            "2016-09-01                  1363    2110    1106   2185     1595    2425   \n",
            "2016-10-01                  1323    2074    1148   2366     1758    2542   \n",
            "2016-11-01                  1316    2032    1152   2158     1755    2419   \n",
            "2016-12-01                  1278    1975    1182   2285     1860    2628   \n",
            "\n",
            "borough     City of London  Croydon  Ealing  Enfield  ...  Merton  Newham  \\\n",
            "date                                                  ...                   \n",
            "2008-01-01               0     2623    2724     2121  ...    1126    2876   \n",
            "2008-02-01               0     2390    2679     1956  ...    1172    2510   \n",
            "2008-03-01               0     2394    2345     1920  ...    1124    2492   \n",
            "2008-04-01               0     2207    2266     1922  ...    1112    2290   \n",
            "2008-05-01               0     2501    2457     1848  ...    1153    2582   \n",
            "...                    ...      ...     ...      ...  ...     ...     ...   \n",
            "2016-08-01              19     2523    2342     1773  ...    1122    2495   \n",
            "2016-09-01              19     2456    2304     1900  ...    1052    2456   \n",
            "2016-10-01              17     2398    2292     1972  ...    1074    2771   \n",
            "2016-11-01              12     2288    2125     1960  ...    1087    2695   \n",
            "2016-12-01              34     2387    2306     1779  ...     993    2703   \n",
            "\n",
            "borough     Redbridge  Richmond upon Thames  Southwark  Sutton  Tower Hamlets  \\\n",
            "date                                                                            \n",
            "2008-01-01       1852                   956       2990    1133           2125   \n",
            "2008-02-01       1739                   972       2875    1021           2010   \n",
            "2008-03-01       1760                   897       2703    1056           2129   \n",
            "2008-04-01       1795                   877       2713    1039           2115   \n",
            "2008-05-01       1718                   896       2867    1151           2143   \n",
            "...               ...                   ...        ...     ...            ...   \n",
            "2016-08-01       1705                   960       2746     768           2451   \n",
            "2016-09-01       1599                  1009       2792     898           2488   \n",
            "2016-10-01       1684                   918       2709     847           2707   \n",
            "2016-11-01       1615                   906       2528     960           2501   \n",
            "2016-12-01       1560                   860       2603     871           2405   \n",
            "\n",
            "borough     Waltham Forest  Wandsworth  Westminster  \n",
            "date                                                 \n",
            "2008-01-01            2047        2163         3957  \n",
            "2008-02-01            1983        2111         3880  \n",
            "2008-03-01            1981        2010         3896  \n",
            "2008-04-01            1976        1993         3725  \n",
            "2008-05-01            2135        1938         3849  \n",
            "...                    ...         ...          ...  \n",
            "2016-08-01            1663        2021         4291  \n",
            "2016-09-01            1641        2009         3773  \n",
            "2016-10-01            1763        2197         4093  \n",
            "2016-11-01            1719        1904         4275  \n",
            "2016-12-01            1718        1913         4751  \n",
            "\n",
            "[108 rows x 33 columns]\n"
          ]
        }
      ],
      "source": [
        "# Analyze the trends overtime to complete a time-based analysis of the data.\n",
        "if 'year' in df.columns and 'month' in df.columns:\n",
        "    df['date'] = pd.to_datetime(df['year'].astype(str) + '-' + df['month'].astype(str))\n",
        "    time_trend = df.groupby(['date', 'borough'])['value'].sum().unstack()\n",
        "    print(time_trend)"
      ]
    },
    {
      "cell_type": "code",
      "execution_count": 87,
      "metadata": {},
      "outputs": [],
      "source": [
        "\n",
        "\n"
      ]
    },
    {
      "cell_type": "markdown",
      "metadata": {},
      "source": [
        "---"
      ]
    },
    {
      "cell_type": "markdown",
      "metadata": {},
      "source": [
        "NOTE"
      ]
    },
    {
      "cell_type": "markdown",
      "metadata": {},
      "source": [
        "* You may add as many sections as you want, as long as it supports your project workflow.\n",
        "* All notebook's cells should be run top-down (you can't create a dynamic wherein a given point you need to go back to a previous cell to execute some task, like go back to a previous cell and refresh a variable content)"
      ]
    },
    {
      "cell_type": "markdown",
      "metadata": {},
      "source": [
        "---"
      ]
    },
    {
      "cell_type": "markdown",
      "metadata": {
        "id": "ltNetd085qHf"
      },
      "source": [
        "# Push files to Repo"
      ]
    },
    {
      "cell_type": "markdown",
      "metadata": {},
      "source": [
        "* In cases where you don't need to push files to Repo, you may replace this section with \"Conclusions and Next Steps\" and state your conclusions and next steps."
      ]
    },
    {
      "cell_type": "code",
      "execution_count": null,
      "metadata": {
        "id": "aKlnIozA4eQO",
        "outputId": "fd09bc1f-adb1-4511-f6ce-492a6af570c0"
      },
      "outputs": [],
      "source": [
        "\n"
      ]
    }
  ],
  "metadata": {
    "accelerator": "GPU",
    "colab": {
      "name": "Data Practitioner Jupyter Notebook.ipynb",
      "provenance": [],
      "toc_visible": true
    },
    "kernelspec": {
      "display_name": "Python 3",
      "language": "python",
      "name": "python3"
    },
    "language_info": {
      "codemirror_mode": {
        "name": "ipython",
        "version": 3
      },
      "file_extension": ".py",
      "mimetype": "text/x-python",
      "name": "python",
      "nbconvert_exporter": "python",
      "pygments_lexer": "ipython3",
      "version": "3.9.20"
    },
    "orig_nbformat": 2
  },
  "nbformat": 4,
  "nbformat_minor": 2
}
